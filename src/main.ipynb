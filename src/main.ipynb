{
 "metadata": {
  "language_info": {
   "codemirror_mode": {
    "name": "ipython",
    "version": 3
   },
   "file_extension": ".py",
   "mimetype": "text/x-python",
   "name": "python",
   "nbconvert_exporter": "python",
   "pygments_lexer": "ipython3",
   "version": "3.8.7"
  },
  "orig_nbformat": 2,
  "kernelspec": {
   "name": "python387jvsc74a57bd0c627be1547c7c874688ddee1aaaa67b367275f1752d282bff5eb427acd241334",
   "display_name": "Python 3.8.7 64-bit"
  },
  "metadata": {
   "interpreter": {
    "hash": "c627be1547c7c874688ddee1aaaa67b367275f1752d282bff5eb427acd241334"
   }
  }
 },
 "nbformat": 4,
 "nbformat_minor": 2,
 "cells": [
  {
   "cell_type": "code",
   "execution_count": null,
   "metadata": {},
   "outputs": [],
   "source": [
    "import pdfplumber\n",
    "import pandas as pd\n",
    "import json\n",
    "from tqdm import tqdm"
   ]
  },
  {
   "cell_type": "code",
   "execution_count": null,
   "metadata": {},
   "outputs": [],
   "source": [
    "lists = [{\n",
    "    \"id\": 0,\n",
    "    \"name\": \"ENEM 2017, 2018 e 2019\",\n",
    "    \"file_path\": \"../resources/enem.pdf\"\n",
    "},\n",
    "{\n",
    "    \"id\": 1,\n",
    "    \"name\": \"Vestibular UDESC 2019/2 ou 2020/1\",\n",
    "    \"file_path\": \"../resources/vestibular.pdf\"\n",
    "},\n",
    "{\n",
    "    \"id\": 2,\n",
    "    \"name\": \"Média final geral do Ensino Médio\",\n",
    "    \"file_path\": \"../resources/ensino_medio.pdf\"\n",
    "}]"
   ]
  },
  {
   "cell_type": "code",
   "execution_count": null,
   "metadata": {},
   "outputs": [],
   "source": [
    "def get_candidates_df(list):\n",
    "    global df\n",
    "\n",
    "    pdf = pdfplumber.open(list[\"file_path\"])\n",
    "    candidates = []\n",
    "\n",
    "    for page in tqdm(pdf.pages, desc='tables extraction'):\n",
    "        candidates.extend(page.extract_table())\n",
    "\n",
    "    # define headers\n",
    "    headers = [\"id\", \"name\", \"birth_date\", \"grade\", \"situation\", \"course\", \"affirmative_action_policy\"]\n",
    "\n",
    "    df = pd.DataFrame(candidates[1:], columns=headers)\n",
    "\n",
    "    for column in headers:\n",
    "        df[column] = df[column].str.replace(\"\\n\", \"\")\n",
    "\n",
    "    df[\"grade\"] = df[\"grade\"].str.replace(\",\", \".\")\n",
    "    df[\"grade\"] = pd.to_numeric(df[\"grade\"])\n",
    "    df['grade'] = df['grade'].fillna(0)\n",
    "\n",
    "    df[\"list_id\"] = list[\"id\"]\n",
    "\n",
    "    return df"
   ]
  },
  {
   "cell_type": "code",
   "execution_count": null,
   "metadata": {},
   "outputs": [],
   "source": [
    "candidates = []\n",
    "\n",
    "print(\"Starting to extract data...\")\n",
    "\n",
    "for list in tqdm(lists, desc='lists'):\n",
    "    list_candidates = get_candidates_df(list).to_dict(orient=\"records\")\n",
    "    candidates.extend(list_candidates)"
   ]
  },
  {
   "cell_type": "code",
   "execution_count": null,
   "metadata": {},
   "outputs": [],
   "source": [
    "courses = set([x[\"course\"] for x in candidates])\n",
    "courses = [*courses]\n",
    "courses = [{\"id\": id, \"name\": name} for id, name in enumerate(courses)]\n"
   ]
  },
  {
   "cell_type": "code",
   "execution_count": null,
   "metadata": {},
   "outputs": [],
   "source": [
    "for candidate in candidates:\n",
    "    candidate[\"course\"] = [course[\"id\"] for course in courses if course[\"name\"] == candidate[\"course\"]][0]\n"
   ]
  },
  {
   "cell_type": "code",
   "execution_count": null,
   "metadata": {},
   "outputs": [],
   "source": [
    "CANDIDATES_OUTPUT = \"../resources/output/candidates_output.json\"\n",
    "COURSES_OUTPUT = \"../resources/output/courses_output.json\"\n",
    "\n",
    "with open(CANDIDATES_OUTPUT, \"w\", encoding=\"utf-8\") as f:\n",
    "    json.dump(candidates, f, ensure_ascii=False, indent=4)\n",
    "\n",
    "with open(COURSES_OUTPUT, \"w\", encoding=\"utf-8\") as f:\n",
    "    json.dump(courses, f, ensure_ascii=False, indent=4)"
   ]
  }
 ]
}